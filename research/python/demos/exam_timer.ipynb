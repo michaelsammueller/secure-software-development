{
 "cells": [
  {
   "attachments": {},
   "cell_type": "markdown",
   "metadata": {},
   "source": [
    "# Timed Exam"
   ]
  },
  {
   "attachments": {},
   "cell_type": "markdown",
   "metadata": {},
   "source": [
    "## Implementation with 'threading'"
   ]
  },
  {
   "cell_type": "code",
   "execution_count": 1,
   "metadata": {},
   "outputs": [],
   "source": [
    "import threading"
   ]
  },
  {
   "cell_type": "code",
   "execution_count": 5,
   "metadata": {},
   "outputs": [],
   "source": [
    "class Timer(object):\n",
    "    '''Class to assert input obey time constraint'''\n",
    "    def __init__(self):\n",
    "        self._timeout = True\n",
    "\n",
    "    def timeout_handler(self):\n",
    "        '''Publishes alarm signal to class state'''\n",
    "        self._timeout = True\n",
    "\n",
    "    def exam_with_timeout(self, questions, timeout_time):\n",
    "        '''Provides a series of question, but times out after timeout_time seconds'''\n",
    "        # Initialise alarm signal\n",
    "        self._timeout = False\n",
    "        timer = threading.Timer(interval=timeout_time, function=self.timeout_handler)\n",
    "        timer.start()\n",
    "        # return input if user is quick enough\n",
    "        q, num_questions = 0, len(questions)\n",
    "        answers = []\n",
    "        while not self._timeout and q < num_questions:\n",
    "            user_input = input(questions[q])\n",
    "            q += 1\n",
    "            answers.append(user_input)\n",
    "        timer.cancel()\n",
    "        return answers"
   ]
  },
  {
   "cell_type": "code",
   "execution_count": 9,
   "metadata": {},
   "outputs": [
    {
     "name": "stdout",
     "output_type": "stream",
     "text": [
      "question 1: What is 3 x 5 ?\n",
      " You answered '5'\n",
      " That's wrong!\n",
      "question 2: What is 5 x 3?\n",
      " You answered '5'\n",
      " That's wrong!\n",
      "question 3: What is 3 x 3?\n",
      " You answered '5'\n",
      " That's wrong!\n"
     ]
    }
   ],
   "source": [
    "timer = Timer()\n",
    "questions = [\"What is 3 x 5 ?\", \"What is 5 x 3?\", \"What is 3 x 3?\"]\n",
    "answers = [\"15\", \"15\", \"9\"]\n",
    "user_answers = timer.exam_with_timeout(questions, 15)\n",
    "if user_answers:\n",
    "    for q, user_input, correct_answer in zip(range(len(questions,)), user_answers, answers):\n",
    "        if user_input == correct_answer:\n",
    "            print(f\"question {q+1}: {questions[q]}\\n\", f\"You answered '{user_input}'\\n\", f\"That's correct!\")\n",
    "        else:\n",
    "            print(f\"question {q+1}: {questions[q]}\\n\", f\"You answered '{user_input}'\\n\", f\"That's wrong!\")\n",
    "else:\n",
    "    print(\"Too slow!\")"
   ]
  }
 ],
 "metadata": {
  "kernelspec": {
   "display_name": "Python 3",
   "language": "python",
   "name": "python3"
  },
  "language_info": {
   "codemirror_mode": {
    "name": "ipython",
    "version": 3
   },
   "file_extension": ".py",
   "mimetype": "text/x-python",
   "name": "python",
   "nbconvert_exporter": "python",
   "pygments_lexer": "ipython3",
   "version": "3.10.3"
  },
  "orig_nbformat": 4
 },
 "nbformat": 4,
 "nbformat_minor": 2
}
