{
 "cells": [
  {
   "attachments": {},
   "cell_type": "markdown",
   "metadata": {},
   "source": [
    "# Timed Input"
   ]
  },
  {
   "attachments": {},
   "cell_type": "markdown",
   "metadata": {},
   "source": [
    "## Implementation with 'threading'"
   ]
  },
  {
   "cell_type": "code",
   "execution_count": 1,
   "metadata": {},
   "outputs": [],
   "source": [
    "import threading"
   ]
  },
  {
   "cell_type": "code",
   "execution_count": 2,
   "metadata": {},
   "outputs": [],
   "source": [
    "class Timer(object):\n",
    "    '''Class to assert input obey time constraint'''\n",
    "    def __init__(self):\n",
    "        self._timeout = True\n",
    "\n",
    "    def timeout_handler(self):\n",
    "        '''Publishes alarm signal to class state'''\n",
    "        self._timeout = True\n",
    "\n",
    "    def input_with_timeout(self, prompt, timeout_time):\n",
    "        '''Asks for input, but times out after timeout_time seconds'''\n",
    "        # Initialise alarm signal\n",
    "        self._timeout = False\n",
    "        timer = threading.Timer(interval=timeout_time, function=self.timeout_handler)\n",
    "        timer.start()\n",
    "        # return input if user is quick enough\n",
    "        user_input = input(prompt)\n",
    "        timer.cancel()\n",
    "        return \"\" if self._timeout else user_input"
   ]
  },
  {
   "cell_type": "code",
   "execution_count": 3,
   "metadata": {},
   "outputs": [
    {
     "name": "stdout",
     "output_type": "stream",
     "text": [
      "Too slow!\n"
     ]
    }
   ],
   "source": [
    "timer = Timer()\n",
    "user_input = timer.input_with_timeout(\"Enter something: \", 5)\n",
    "if user_input:\n",
    "    print(\"You entered: \", user_input)\n",
    "else:\n",
    "    print(\"Too slow!\")"
   ]
  },
  {
   "attachments": {},
   "cell_type": "markdown",
   "metadata": {},
   "source": [
    "## Implementation with 'signal'"
   ]
  },
  {
   "attachments": {},
   "cell_type": "markdown",
   "metadata": {},
   "source": [
    "(This only works on unix systems, as SIGALRM is unavailable on Windows)"
   ]
  },
  {
   "cell_type": "code",
   "execution_count": 13,
   "metadata": {},
   "outputs": [],
   "source": [
    "import signal"
   ]
  },
  {
   "cell_type": "code",
   "execution_count": 14,
   "metadata": {},
   "outputs": [],
   "source": [
    "def timeout_handler(signum, frame):\n",
    "    '''Converts alarm signal to exception'''\n",
    "    raise TimeoutError\n",
    "\n",
    "def input_with_timeout(prompt, timeout_time):\n",
    "    '''Asks for input, but times out after timeout_time seconds'''\n",
    "    # Initialise alarm signal\n",
    "    signal.signal(signal.SIGALRM, timeout_handler)\n",
    "    signal.alarm(timeout_time)\n",
    "    # return input if user is quick enough\n",
    "    try:\n",
    "        user_input = input(prompt)\n",
    "        signal.alarm(0) # Disable alarm\n",
    "        return user_input\n",
    "    except TimeoutError:\n",
    "        print(\"Too slow!\")\n",
    "        return \"\""
   ]
  },
  {
   "cell_type": "code",
   "execution_count": 4,
   "metadata": {},
   "outputs": [],
   "source": [
    "user_input = input_with_timeout(\"Enter something: \", 5)\n",
    "if user_input:\n",
    "    print(\"You entered: \", user_input)"
   ]
  }
 ],
 "metadata": {
  "kernelspec": {
   "display_name": "Python 3",
   "language": "python",
   "name": "python3"
  },
  "language_info": {
   "codemirror_mode": {
    "name": "ipython",
    "version": 3
   },
   "file_extension": ".py",
   "mimetype": "text/x-python",
   "name": "python",
   "nbconvert_exporter": "python",
   "pygments_lexer": "ipython3",
   "version": "3.10.3"
  },
  "orig_nbformat": 4
 },
 "nbformat": 4,
 "nbformat_minor": 2
}
