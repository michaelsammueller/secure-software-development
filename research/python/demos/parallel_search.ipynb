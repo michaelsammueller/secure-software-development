{
 "cells": [
  {
   "attachments": {},
   "cell_type": "markdown",
   "metadata": {},
   "source": [
    "# Parallel Search"
   ]
  },
  {
   "attachments": {},
   "cell_type": "markdown",
   "metadata": {},
   "source": [
    "## Implementation with 'threading'"
   ]
  },
  {
   "cell_type": "code",
   "execution_count": 1,
   "metadata": {},
   "outputs": [],
   "source": [
    "import threading"
   ]
  },
  {
   "cell_type": "code",
   "execution_count": 2,
   "metadata": {},
   "outputs": [],
   "source": [
    "class SearchStrategy(object):\n",
    "    def __init__(self):\n",
    "        self._threads = []\n",
    "        self._arrays_remaining = 0\n",
    "        self._success_event = threading.Event()\n",
    "        self._lock = threading.Lock()\n",
    "\n",
    "    def __call__(self, target_item, arrays):\n",
    "        # intiialise threads\n",
    "        self._arrays_remaining = len(arrays)\n",
    "        for array in arrays:\n",
    "            t = threading.Thread(target=self._search, args=(target_item, array))\n",
    "            self._threads.append(t)\n",
    "        # begin threads\n",
    "        for t in self._threads:\n",
    "            t.start()\n",
    "        # await result\n",
    "        while True:\n",
    "            if self._success_event.is_set():\n",
    "                return True\n",
    "            elif self._arrays_remaining == 0:\n",
    "                return False\n",
    "            else:\n",
    "                continue\n",
    "    \n",
    "    def _search(self, target_item, array):\n",
    "        \"\"\"Search for target_item in array, and set success_event when found.\"\"\"\n",
    "        print(f\"Searching for {target_item} in {array}\\n\")\n",
    "        # manually search to enable quick exit\n",
    "        for item in array:\n",
    "            if item == target_item:\n",
    "                print(f\"Found {target_item} in {array}\\n\")\n",
    "                self._success_event.set()\n",
    "            if self._success_event.is_set(): # quick exit\n",
    "                print(f\"Search of {array} is terminated\\n\")\n",
    "                break\n",
    "        else:\n",
    "            print(f\"Exhausted {array}\\n\")\n",
    "        with self._lock: # race condition possible: two threads may load and set same values\n",
    "            self._arrays_remaining -= 1 # (resolves to four opcodes)"
   ]
  },
  {
   "cell_type": "code",
   "execution_count": 13,
   "metadata": {},
   "outputs": [
    {
     "name": "stdout",
     "output_type": "stream",
     "text": [
      "Searching for 8 in [1, 2, 3]\n",
      "Searching for 8 in [4, 5, 6]\n",
      "\n",
      "Exhausted [1, 2, 3]\n",
      "\n",
      "\n",
      "Exhausted [4, 5, 6]\n",
      "\n",
      "Searching for 8 in [7, 8, 9]\n",
      "\n",
      "Found 8 in [7, 8, 9]\n",
      "\n",
      "Search of [7, 8, 9] is terminated\n",
      "\n",
      "Searching for 8 in [10, 11, 12]\n",
      "\n",
      "Search of [10, 11, 12] is terminated\n",
      "\n"
     ]
    }
   ],
   "source": [
    "arrays = [[1,2,3], [4,5,6], [7,8,9], [10,11,12]]\n",
    "target_item = 8\n",
    "search_strategy = SearchStrategy()\n",
    "result = search_strategy(target_item, arrays)"
   ]
  }
 ],
 "metadata": {
  "kernelspec": {
   "display_name": "Python 3",
   "language": "python",
   "name": "python3"
  },
  "language_info": {
   "codemirror_mode": {
    "name": "ipython",
    "version": 3
   },
   "file_extension": ".py",
   "mimetype": "text/x-python",
   "name": "python",
   "nbconvert_exporter": "python",
   "pygments_lexer": "ipython3",
   "version": "3.10.3"
  },
  "orig_nbformat": 4
 },
 "nbformat": 4,
 "nbformat_minor": 2
}
